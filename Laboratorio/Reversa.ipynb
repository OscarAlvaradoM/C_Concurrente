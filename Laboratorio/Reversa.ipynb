{
 "cells": [
  {
   "cell_type": "code",
   "execution_count": 42,
   "metadata": {},
   "outputs": [],
   "source": [
    "def inversa(cadena):\n",
    "    '''\n",
    "    Esta función recibe una cadena como argumento y devuelve esa cadena pero invertida.\n",
    "    \n",
    "    Ejemplo 1:\n",
    "    >>> inversa('oscar') = 'racso'\n",
    "    \n",
    "    Ejemplo 2:\n",
    "    >>> inversa('oscar es mi nombre') = 'erbmon im se racso'\n",
    "    '''\n",
    "    rev = ''\n",
    "    for i in range(len(cadena)):\n",
    "        rev += cadena[- i - 1]\n",
    "    return rev"
   ]
  }
 ],
 "metadata": {
  "kernelspec": {
   "display_name": "Python 3",
   "language": "python",
   "name": "python3"
  },
  "language_info": {
   "codemirror_mode": {
    "name": "ipython",
    "version": 3
   },
   "file_extension": ".py",
   "mimetype": "text/x-python",
   "name": "python",
   "nbconvert_exporter": "python",
   "pygments_lexer": "ipython3",
   "version": "3.7.0"
  }
 },
 "nbformat": 4,
 "nbformat_minor": 2
}
