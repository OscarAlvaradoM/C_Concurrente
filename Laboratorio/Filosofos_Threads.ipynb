{
 "cells": [
  {
   "cell_type": "markdown",
   "metadata": {},
   "source": [
    "# Problema de los filósofos con threads\n",
    "### Óscar Alvarado"
   ]
  },
  {
   "cell_type": "code",
   "execution_count": 13,
   "metadata": {},
   "outputs": [],
   "source": [
    "from threading import Thread,  Semaphore\n",
    "from math import floor"
   ]
  },
  {
   "cell_type": "code",
   "execution_count": 8,
   "metadata": {},
   "outputs": [],
   "source": [
    "def Gestion(filo, tenedor):\n",
    "    print('El filósofo {} no está comiendo'.format(filo))\n",
    "    tenedor.acquire()\n",
    "    print('El filósofo {} come'.format(filo))\n",
    "    tenedor.release()\n",
    "    print('El filósofo {} ya comió, volverá a comer'.format(filo))"
   ]
  },
  {
   "cell_type": "code",
   "execution_count": 19,
   "metadata": {
    "scrolled": true
   },
   "outputs": [
    {
     "name": "stdout",
     "output_type": "stream",
     "text": [
      "El filósofo 1 no está comiendoEl filósofo 2 no está comiendo\n",
      "El filósofo 2 come\n",
      "El filósofo 2 ya comió, volverá a comer\n",
      "\n",
      "El filósofo 3 no está comiendo\n",
      "El filósofo 3 come\n",
      "El filósofo 3 ya comió, volverá a comer\n",
      "El filósofo 1 come\n",
      "El filósofo 1 ya comió, volverá a comer\n",
      "El filósofo 4 no está comiendo\n",
      "El filósofo 4 come\n",
      "El filósofo 4 ya comió, volverá a comer\n",
      "El filósofo 5 no está comiendoEl filósofo 11 no está comiendo\n",
      "El filósofo 11 come\n",
      "El filósofo 11 ya comió, volverá a comer\n",
      "\n",
      "El filósofo 12 no está comiendo\n",
      "El filósofo 5 come\n",
      "El filósofo 5 ya comió, volverá a comer\n",
      "El filósofo 12 come\n",
      "El filósofo 12 ya comió, volverá a comer\n",
      "El filósofo 13 no está comiendo\n",
      "El filósofo 13 come\n",
      "El filósofo 13 ya comió, volverá a comer\n",
      "El filósofo 14 no está comiendo\n",
      "El filósofo 14 come\n",
      "El filósofo 14 ya comió, volverá a comer\n",
      "El filósofo 15 no está comiendo\n",
      "El filósofo 15 come\n",
      "El filósofo 15 ya comió, volverá a comer\n"
     ]
    }
   ],
   "source": [
    "tenedor = Semaphore(floor(15/2))\n",
    "\n",
    "filosofo1 = Thread(target = Gestion, args = (1,tenedor))\n",
    "filosofo2 = Thread(target = Gestion, args = (2,tenedor))\n",
    "filosofo3 = Thread(target = Gestion, args = (3,tenedor))\n",
    "filosofo4 = Thread(target = Gestion, args = (4,tenedor))\n",
    "filosofo5 = Thread(target = Gestion, args = (5,tenedor))\n",
    "filosofo11 = Thread(target = Gestion, args = (11,tenedor))\n",
    "filosofo12 = Thread(target = Gestion, args = (12,tenedor))\n",
    "filosofo13 = Thread(target = Gestion, args = (13,tenedor))\n",
    "filosofo14 = Thread(target = Gestion, args = (14,tenedor))\n",
    "filosofo15 = Thread(target = Gestion, args = (15,tenedor))\n",
    "\n",
    "filosofo1.start()\n",
    "filosofo2.start()\n",
    "filosofo3.start()\n",
    "filosofo4.start()\n",
    "filosofo5.start()\n",
    "filosofo11.start()\n",
    "filosofo12.start()\n",
    "filosofo13.start()\n",
    "filosofo14.start()\n",
    "filosofo15.start()"
   ]
  },
  {
   "cell_type": "code",
   "execution_count": 12,
   "metadata": {},
   "outputs": [
    {
     "data": {
      "text/plain": [
       "['__doc__',\n",
       " '__file__',\n",
       " '__loader__',\n",
       " '__name__',\n",
       " '__package__',\n",
       " '__spec__',\n",
       " 'acos',\n",
       " 'acosh',\n",
       " 'asin',\n",
       " 'asinh',\n",
       " 'atan',\n",
       " 'atan2',\n",
       " 'atanh',\n",
       " 'ceil',\n",
       " 'copysign',\n",
       " 'cos',\n",
       " 'cosh',\n",
       " 'degrees',\n",
       " 'e',\n",
       " 'erf',\n",
       " 'erfc',\n",
       " 'exp',\n",
       " 'expm1',\n",
       " 'fabs',\n",
       " 'factorial',\n",
       " 'floor',\n",
       " 'fmod',\n",
       " 'frexp',\n",
       " 'fsum',\n",
       " 'gamma',\n",
       " 'gcd',\n",
       " 'hypot',\n",
       " 'inf',\n",
       " 'isclose',\n",
       " 'isfinite',\n",
       " 'isinf',\n",
       " 'isnan',\n",
       " 'ldexp',\n",
       " 'lgamma',\n",
       " 'log',\n",
       " 'log10',\n",
       " 'log1p',\n",
       " 'log2',\n",
       " 'modf',\n",
       " 'nan',\n",
       " 'pi',\n",
       " 'pow',\n",
       " 'radians',\n",
       " 'remainder',\n",
       " 'sin',\n",
       " 'sinh',\n",
       " 'sqrt',\n",
       " 'tan',\n",
       " 'tanh',\n",
       " 'tau',\n",
       " 'trunc']"
      ]
     },
     "execution_count": 12,
     "metadata": {},
     "output_type": "execute_result"
    }
   ],
   "source": [
    "dir(math)"
   ]
  },
  {
   "cell_type": "code",
   "execution_count": null,
   "metadata": {},
   "outputs": [],
   "source": []
  }
 ],
 "metadata": {
  "kernelspec": {
   "display_name": "Python 3",
   "language": "python",
   "name": "python3"
  },
  "language_info": {
   "codemirror_mode": {
    "name": "ipython",
    "version": 3
   },
   "file_extension": ".py",
   "mimetype": "text/x-python",
   "name": "python",
   "nbconvert_exporter": "python",
   "pygments_lexer": "ipython3",
   "version": "3.7.3"
  }
 },
 "nbformat": 4,
 "nbformat_minor": 2
}
