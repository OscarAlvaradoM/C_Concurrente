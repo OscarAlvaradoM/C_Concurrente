{
 "cells": [
  {
   "cell_type": "markdown",
   "metadata": {},
   "source": [
    "# Laboratorio 5/Septiembre/2019"
   ]
  },
  {
   "cell_type": "markdown",
   "metadata": {},
   "source": [
    "### Alvarado Morán Óscar Anuar"
   ]
  },
  {
   "cell_type": "code",
   "execution_count": 21,
   "metadata": {},
   "outputs": [],
   "source": [
    "%matplotlib inline\n",
    "import multiprocessing as mp\n",
    "import time\n",
    "import pandas as pd\n",
    "import matplotlib.pyplot as plt\n",
    "import numpy as np\n",
    "import os\n",
    "from multiprocessing import Process"
   ]
  },
  {
   "cell_type": "markdown",
   "metadata": {},
   "source": [
    "* Crea un proceso que construya 5 procesos hijos. \"Captura\" los id's de los procesos hijos y crea una tabla."
   ]
  },
  {
   "cell_type": "code",
   "execution_count": 22,
   "metadata": {},
   "outputs": [
    {
     "name": "stdout",
     "output_type": "stream",
     "text": [
      "Proceso padre:  12227\n",
      "ID proceso hijo 0 = 18999\n",
      "ID proceso hijo 1 = 19000\n",
      "ID proceso hijo 3 = 19006\n",
      "ID proceso hijo 2 = 19005\n",
      "ID proceso hijo 4 = 19007\n"
     ]
    }
   ],
   "source": [
    "def nombre(numero):\n",
    "    print('ID proceso hijo',numero, '=', os.getpid())\n",
    "    \n",
    "def crear_proceso(cuantos):\n",
    "    print(\"Proceso padre: \", os.getppid())\n",
    "    for i in range(cuantos):\n",
    "        p1 = mp.Process(target = nombre, args = (i,))\n",
    "        p1.start()\n",
    "        p1\n",
    "        \n",
    "p = mp.Process(target = crear_proceso, args = (5,))\n",
    "p.start()"
   ]
  },
  {
   "cell_type": "markdown",
   "metadata": {},
   "source": [
    "* Crea un proceso que cree dos procesos hijos \n",
    "\n",
    "    a) Un proces hijo crea la gráfica de f(x) = x² + x - 2\n",
    "    \n",
    "    b) El otro proceso crea la gráfica de f(x) = x³ - 2x² + x + 1 \n",
    "    \n",
    "    c) Calcula tiempos versión secuencial, versión concurrente."
   ]
  },
  {
   "cell_type": "code",
   "execution_count": 44,
   "metadata": {},
   "outputs": [
    {
     "name": "stdout",
     "output_type": "stream",
     "text": [
      "Tiempo de ejecución:  0.00740361213684082\n"
     ]
    }
   ],
   "source": [
    "def f1(x):\n",
    "    global a \n",
    "    y = x **2 + x - 2\n",
    "    plt.plot(x,y)\n",
    "    #print(a)\n",
    "    \n",
    "def f2(x):\n",
    "    global b\n",
    "    y = x ** 3 - 2*x ** 2 + x + 1 \n",
    "    b = plt.plot(x,y)\n",
    "    \n",
    "\n",
    "def dos_procesos(x):\n",
    "    p1 = mp.Process(target = f1, args = (x,))\n",
    "    p2 = mp.Process(target = f2, args = (x,))\n",
    "    \n",
    "    p1.start()\n",
    "    p2.start()\n",
    "    \n",
    "\n",
    "x = np.arange(-100, 100)\n",
    "t = time.time()\n",
    "PP = mp.Process(target = dos_procesos, args = (x,))\n",
    "PP.start()\n",
    "print(\"Tiempo de ejecución: \", time.time()-t)\n"
   ]
  },
  {
   "cell_type": "markdown",
   "metadata": {},
   "source": [
    "    \n",
    "* Elabora dos programas \n",
    "\n",
    "    a) Secuencial reduce en 1 unidad la variable a = 10⁶ hasta llegar a 0.\n",
    "    \n",
    "    b) Concurrente: crea dos procesos que reduzcan a = 10⁶/2 y b = 10⁶/2.\n",
    "    \n",
    "    c) Calcula tiempos."
   ]
  },
  {
   "cell_type": "code",
   "execution_count": 41,
   "metadata": {},
   "outputs": [
    {
     "data": {
      "image/png": "[encoded data removed]",
      "text/plain": [
       "<Figure size 432x288 with 1 Axes>"
      ]
     },
     "metadata": {
      "needs_background": "light"
     },
     "output_type": "display_data"
    }
   ],
   "source": [
    "graf1 = plt.plot(x, x**2)"
   ]
  },
  {
   "cell_type": "code",
   "execution_count": null,
   "metadata": {},
   "outputs": [],
   "source": [
    "import numpy as np\n",
    "import matplotlib.pyplot as plt\n",
    "\n",
    "# example data\n",
    "x = np.arange(0.1, 4, 0.5)\n",
    "y = np.exp(-x)\n",
    "\n",
    "fig, ax = plt.subplots()\n",
    "myplot = ax.errorbar(x, y, xerr=0.2, yerr=0.4)"
   ]
  },
  {
   "cell_type": "code",
   "execution_count": 24,
   "metadata": {},
   "outputs": [],
   "source": [
    "def decrecer(a = 10 ** 6):\n",
    "    while a > 0:\n",
    "        a = a - 1\n",
    "    return "
   ]
  },
  {
   "cell_type": "code",
   "execution_count": 25,
   "metadata": {},
   "outputs": [
    {
     "name": "stdout",
     "output_type": "stream",
     "text": [
      "Tiempo de ejecución:  0.014001131057739258\n"
     ]
    }
   ],
   "source": [
    "p1 = mp.Process(target = decrecer, args = ((10**6)/2,))\n",
    "p2 = mp.Process(target = decrecer, args = ((10**6)/2,))\n",
    "\n",
    "t = time.time()\n",
    "p1.start()\n",
    "p2.start()\n",
    "\n",
    "print(\"Tiempo de ejecución: \", time.time()-t)"
   ]
  },
  {
   "cell_type": "code",
   "execution_count": 26,
   "metadata": {},
   "outputs": [
    {
     "name": "stdout",
     "output_type": "stream",
     "text": [
      "Tiempo de ejecución:  0.11819863319396973\n"
     ]
    }
   ],
   "source": [
    "t = time.time()\n",
    "decrecer()\n",
    "print(\"Tiempo de ejecución: \", time.time()-t)"
   ]
  },
  {
   "cell_type": "code",
   "execution_count": 11,
   "metadata": {},
   "outputs": [
    {
     "name": "stdout",
     "output_type": "stream",
     "text": [
      "Main Process PID: 12227\n",
      "Child Process PID: 18506\n"
     ]
    }
   ],
   "source": [
    "class MyProcess(mp.Process):\n",
    "    def __init__(self):\n",
    "        super(MyProcess, self).__init__()\n",
    "\n",
    "    def run(self):\n",
    "        print(\"Child Process PID: {}\".format(mp.current_process().pid))\n",
    "\n",
    "def main():\n",
    "    print(\"Main Process PID: {}\".format(mp.current_process().pid))\n",
    "    myProcess = MyProcess()\n",
    "    myProcess.start()\n",
    "    myProcess.join()\n",
    "        \n",
    "main()"
   ]
  },
  {
   "cell_type": "code",
   "execution_count": 20,
   "metadata": {},
   "outputs": [
    {
     "data": {
      "text/plain": [
       "'MyProcess-14'"
      ]
     },
     "execution_count": 20,
     "metadata": {},
     "output_type": "execute_result"
    }
   ],
   "source": [
    "myPocess = MyProcess()\n",
    "a = myPocess.name\n",
    "a"
   ]
  },
  {
   "cell_type": "code",
   "execution_count": null,
   "metadata": {},
   "outputs": [],
   "source": []
  }
 ],
 "metadata": {
  "kernelspec": {
   "display_name": "Python 3",
   "language": "python",
   "name": "python3"
  },
  "language_info": {
   "codemirror_mode": {
    "name": "ipython",
    "version": 3
   },
   "file_extension": ".py",
   "mimetype": "text/x-python",
   "name": "python",
   "nbconvert_exporter": "python",
   "pygments_lexer": "ipython3",
   "version": "3.7.3"
  }
 },
 "nbformat": 4,
 "nbformat_minor": 2
}
