{
 "cells": [
  {
   "cell_type": "code",
   "execution_count": 12,
   "metadata": {},
   "outputs": [],
   "source": [
    "def pendiente(x1, y1, x2 = 0, y2 = 0):\n",
    "    '''Definimos la función pendiente para calculkar la pendiente dadas \n",
    "   las coordenadas de dos puntos. La función puede recibir las coordenadas \n",
    "   del primer punto y omitir las del segundo que sería considerado como el punto (0,0)\n",
    "    Ejemplo: \n",
    "    >>> pendiente(2,3,7,4) = 0.2 \n",
    "    Ejemplo: \n",
    "    >>> pendiente(5,4) = 0.8 '''\n",
    "    #Calculamos la pendiente, utilizando la fórmula\n",
    "    m = (y2 - y1) / (x2 - x1)\n",
    " \n",
    "    #Regresamos el valor de la pendiente \n",
    "    return m"
   ]
  },
  {
   "cell_type": "code",
   "execution_count": 14,
   "metadata": {},
   "outputs": [],
   "source": [
    "def distancia(x1, y1, x2=0, y2=0): #Definimos la funcion con el nombre de distancia con sus 4 atributos\n",
    "    ''' Esta funcion mide la distancia que existe entre un punto A y un punto B definidos por \"x\" y \"y\" \n",
    "    Ejemplo:\n",
    "    >>>distancia(1, 2, 1, 0)'''\n",
    "    d = pow(((x2-x1)*2)+((y2-y1)*2),0.5) #Declaramos la variable d como el resultado de la raiz cuadrada de x2-x1 **2 + y1-y2 **2\n",
    "    return d #Regresamos el valor de d"
   ]
  },
  {
   "cell_type": "code",
   "execution_count": null,
   "metadata": {},
   "outputs": [],
   "source": []
  }
 ],
 "metadata": {
  "kernelspec": {
   "display_name": "Python 3",
   "language": "python",
   "name": "python3"
  },
  "language_info": {
   "codemirror_mode": {
    "name": "ipython",
    "version": 3
   },
   "file_extension": ".py",
   "mimetype": "text/x-python",
   "name": "python",
   "nbconvert_exporter": "python",
   "pygments_lexer": "ipython3",
   "version": "3.7.3"
  }
 },
 "nbformat": 4,
 "nbformat_minor": 2
}
