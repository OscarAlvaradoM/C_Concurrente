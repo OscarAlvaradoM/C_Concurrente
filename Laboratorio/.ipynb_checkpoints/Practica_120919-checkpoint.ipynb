{
 "cells": [
  {
   "cell_type": "markdown",
   "metadata": {},
   "source": [
    "# Práctica 12/Septiembre/2019"
   ]
  },
  {
   "cell_type": "markdown",
   "metadata": {},
   "source": [
    "## Escribe el algoritmo concurrente que resuelva las siguiente tareas"
   ]
  },
  {
   "cell_type": "markdown",
   "metadata": {},
   "source": [
    "# 1) \n",
    "Padre crea dos hijos:\n",
    "    * Hijo1: Crea un archvo de texto(10 líneas)\n",
    "    * Hijo2: Lee el archivo y crea una copia.\n",
    "    "
   ]
  },
  {
   "cell_type": "code",
   "execution_count": 27,
   "metadata": {},
   "outputs": [
    {
     "name": "stdout",
     "output_type": "stream",
     "text": [
      "Proceso padre:  15325\n",
      "Proceso hijo 1:  18674\n",
      "Proceso hijo 1:  18675\n",
      "    Fila10\n",
      "0    Fila0\n",
      "1    Fila1\n",
      "2    Fila2\n",
      "3    Fila3\n",
      "4    Fila4\n",
      "5    Fila5\n",
      "6    Fila6\n",
      "7    Fila7\n",
      "8    Fila8\n",
      "9    Fila9\n",
      "10  Fila10\n"
     ]
    }
   ],
   "source": [
    "import os\n",
    "import multiprocessing as mp\n",
    "import pandas as pd\n",
    "\n",
    "def escribir():\n",
    "    print('Proceso hijo 1: ', os.getpid())\n",
    "    for i in range(10 + 1):\n",
    "        if not os.path.exists('Texto.txt'):\n",
    "            with open(\"Texto.txt\", \"w+\") as Text:\n",
    "                Text.write(\"Header\\n\")\n",
    "        else:\n",
    "            with open(\"Texto.txt\", \"a+\") as Text:\n",
    "                Text.write(f\"Fila{i}\\n\")\n",
    "            \n",
    "def leer():\n",
    "    print('Proceso hijo 1: ', os.getpid())\n",
    "    archivo = pd.read_csv('Texto.txt')\n",
    "    print(archivo)\n",
    "    \n",
    "    \n",
    "def crear_proceso(cuantos):\n",
    "    print(\"Proceso padre: \", os.getppid())\n",
    "    p1 = mp.Process(target = escribir)\n",
    "    p2 = mp.Process(target = leer)\n",
    "    p1.start()\n",
    "    p2.start()\n",
    "        \n",
    "p = mp.Process(target = crear_proceso, args = (2,))\n",
    "p.start()"
   ]
  },
  {
   "cell_type": "markdown",
   "metadata": {},
   "source": [
    "# 2)\n",
    "Crea dos procesos\n",
    "    * P1: hace la suma x = x + 1\n",
    "    * P2: hace la suma y = x + 1\n",
    "        - Prueba con x valor.\n",
    "        - Prueba con x lista\n",
    "        - Prueba con x rango"
   ]
  },
  {
   "cell_type": "code",
   "execution_count": 92,
   "metadata": {
    "scrolled": true
   },
   "outputs": [
    {
     "name": "stdout",
     "output_type": "stream",
     "text": [
      "Valor de y:  32\n",
      "Valor de x:  31\n"
     ]
    }
   ],
   "source": [
    "import os\n",
    "import multiprocessing as mp\n",
    "\n",
    "\n",
    "def sumax(x):\n",
    "    x.value = x.value +1\n",
    "    \n",
    "def sumay(x):\n",
    "    y = x.value + 1\n",
    "    print('Valor de y: ', y)    \n",
    "\n",
    "#def crear_proceso(a):\n",
    "if __name__ == '__main__':\n",
    "    x = mp.Value('i', 30)\n",
    "    p1 = mp.Process(target = sumax, args = (x,))\n",
    "    p2 = mp.Process(target = sumay, args = (x,))\n",
    "    p1.start()\n",
    "    p2.start()\n",
    "    p1.join()\n",
    "    p2.join()\n",
    "    print('Valor de x: ', x.value)\n",
    "\n",
    "#p = mp.Process(target = crear_proceso, args = (2,))\n",
    "#p.start"
   ]
  },
  {
   "cell_type": "code",
   "execution_count": 124,
   "metadata": {},
   "outputs": [
    {
     "name": "stdout",
     "output_type": "stream",
     "text": [
      "24\n",
      "6\n",
      "7\n",
      "Valor de y:  [25, 7, 7, 8, 4, 1]\n",
      "8\n",
      "4\n",
      "1\n"
     ]
    }
   ],
   "source": [
    "import os\n",
    "import multiprocessing as mp\n",
    "\n",
    "\n",
    "def sumax(x):\n",
    "    lock.acquire()\n",
    "    for i in range(len(x)):\n",
    "        x[i] = x[i] + 1\n",
    "        print(x[i])\n",
    "    lock.release()\n",
    "    \n",
    "def sumay(x):\n",
    "    y = [] \n",
    "    for i in range(len(x)):\n",
    "        y.append(x[i] + 1)\n",
    "    print('Valor de y: ', y) \n",
    "\n",
    "arreglo = np.asarray([23, 5, 6, 7, 3, 0])\n",
    "#def crear_proceso(a):\n",
    "if __name__ == '__main__':\n",
    "    x = mp.Array('i', arreglo)\n",
    "    lock = mp.Lock()\n",
    "    p1 = mp.Process(target = sumax, args = (x,))\n",
    "    p2 = mp.Process(target = sumay, args = (x,))\n",
    "    p1.start()\n",
    "    p2.start()\n",
    "    p1.join()\n",
    "    p2.join()\n",
    "\n",
    "#p = mp.Process(target = crear_proceso, args = (2,))\n",
    "#p.start"
   ]
  },
  {
   "cell_type": "markdown",
   "metadata": {},
   "source": [
    "# 3)\n",
    "Simula un proceso de supermercado. \n",
    "Se tienen 10 clientes con 10 productos cada uno.\n",
    "    * A) Crea un proceso (cajero) que atienda (suma total de la compra) los 10 clientes. Calcula el tiempo.\n",
    "    * B) Crea dos procesos (2 cajeros) que atiendan (suma tootal de la compra) 5 clientes cada uno. Calcula el tiempo."
   ]
  },
  {
   "cell_type": "code",
   "execution_count": 109,
   "metadata": {},
   "outputs": [
    {
     "data": {
      "text/plain": [
       "4"
      ]
     },
     "execution_count": 109,
     "metadata": {},
     "output_type": "execute_result"
    }
   ],
   "source": [
    "A = np.asarray([1,2,3,5])\n",
    "len(A)"
   ]
  },
  {
   "cell_type": "code",
   "execution_count": null,
   "metadata": {},
   "outputs": [],
   "source": []
  }
 ],
 "metadata": {
  "kernelspec": {
   "display_name": "Python 3",
   "language": "python",
   "name": "python3"
  },
  "language_info": {
   "codemirror_mode": {
    "name": "ipython",
    "version": 3
   },
   "file_extension": ".py",
   "mimetype": "text/x-python",
   "name": "python",
   "nbconvert_exporter": "python",
   "pygments_lexer": "ipython3",
   "version": "3.7.3"
  }
 },
 "nbformat": 4,
 "nbformat_minor": 2
}
