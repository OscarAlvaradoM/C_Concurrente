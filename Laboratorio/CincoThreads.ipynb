{
  "nbformat": 4,
  "nbformat_minor": 0,
  "metadata": {
    "colab": {
      "name": "CincoThreads.ipynb",
      "provenance": []
    },
    "kernelspec": {
      "name": "python3",
      "display_name": "Python 3"
    }
  },
  "cells": [
    {
      "cell_type": "code",
      "metadata": {
        "id": "PxF-sXAUx4sI",
        "colab_type": "code",
        "outputId": "317eee70-06b9-4f81-ac48-93202d5ba60b",
        "colab": {
          "base_uri": "https://localhost:8080/",
          "height": 106
        }
      },
      "source": [
        "import threading\n",
        "import time\n",
        "\n",
        "class MyThread(threading.Thread): \n",
        "  def __init__(self, number, funcion, q):\n",
        "    super(MyThread, self).__init__()\n",
        "    self.number = number\n",
        "    self.q = q\n",
        "    self.funcion = funcion\n",
        "    self.nombres = {0:'suma de dos numeros', 1:'resta de dos numeros', 2:'multiplicación de dos numeros', 3:'división de dos numeros', 4:'potencia de dos numeros'}\n",
        "  def run(self):\n",
        "    time.sleep(0.1)\n",
        "    a = q.pop()\n",
        "    result = self.funcion[self.number](a)\n",
        "    self.q.append(result)\n",
        "    print('Soy el thread numero: ' + str(self.number), 'Calculé: ', self.nombres[self.number], a ,' = ',self.funcion[self.number](a))\n",
        "    \n",
        "def suma(a):\n",
        "  a += a\n",
        "  return a\n",
        "\n",
        "def resta(a):\n",
        "  a -= 1\n",
        "  return a\n",
        "\n",
        "def mult(a):\n",
        "  a = a * a\n",
        "  return a\n",
        "\n",
        "def div(a):\n",
        "  a = a/a\n",
        "  return a\n",
        "\n",
        "def potencia(a):\n",
        "  a = a ** a\n",
        "  return a\n",
        "\n",
        "funciones = {0:suma, 1:resta, 2:mult, 3:div, 4:potencia}\n",
        "thread_list = []\n",
        "q = [3]\n",
        "for i in range(5):\n",
        "  thread = MyThread(i, funciones, q)\n",
        "  thread_list.append(thread)\n",
        "  thread.start()\n",
        "  thread.join()"
      ],
      "execution_count": 0,
      "outputs": [
        {
          "output_type": "stream",
          "text": [
            "Soy el thread numero: 0 Calculé:  suma de dos numeros 3  =  6\n",
            "Soy el thread numero: 1 Calculé:  resta de dos numeros 6  =  5\n",
            "Soy el thread numero: 2 Calculé:  multiplicación de dos numeros 5  =  25\n",
            "Soy el thread numero: 3 Calculé:  división de dos numeros 25  =  1.0\n",
            "Soy el thread numero: 4 Calculé:  potencia de dos numeros 1.0  =  1.0\n"
          ],
          "name": "stdout"
        }
      ]
    },
    {
      "cell_type": "code",
      "metadata": {
        "id": "mf9dDCI32oYZ",
        "colab_type": "code",
        "outputId": "1b1c3aaa-56d8-4e82-ac55-a64ce19ec1e6",
        "colab": {
          "base_uri": "https://localhost:8080/",
          "height": 106
        }
      },
      "source": [
        "import threading\n",
        "import time\n",
        "\n",
        "class MyThread(threading.Thread):\n",
        "  def __init__(self, number, funcion):\n",
        "    super(MyThread, self).__init__()\n",
        "    self.number = number\n",
        "    self.funcion = funcion\n",
        "    self.nombres = {0:'suma de dos numeros', 1:'resta de dos numeros', 2:'multiplicación de dos numeros', 3:'división de dos numeros', 4:'potencia de dos numeros'}\n",
        "  def run(self):\n",
        "    time.sleep(0.1)\n",
        "    print('Soy el thread numero: ' + str(self.number), 'Calcule: ', self.nombres[self.number], ' 3 y 6 = ',self.funcion[self.number](3, 6))\n",
        "    \n",
        "def suma(a, b):\n",
        "  return a + b\n",
        "\n",
        "def resta(a, b):\n",
        "  return a - b\n",
        "\n",
        "def mult(a, b):\n",
        "  return a * b\n",
        "\n",
        "def div(a, b):\n",
        "  return a/b\n",
        "\n",
        "def potencia(a, b):\n",
        "  return a ** b\n",
        "\n",
        "funciones = {0:suma, 1:resta, 2:mult, 3:div, 4:potencia}\n",
        "thread_list = []\n",
        "for i in range(5):\n",
        "  thread = MyThread(i, funciones)\n",
        "  thread_list.append(thread)\n",
        "  thread.start()\n",
        "  thread.join()"
      ],
      "execution_count": 0,
      "outputs": [
        {
          "output_type": "stream",
          "text": [
            "Soy el thread numero: 0 Calcule:  suma de dos numeros  3 y 6 =  9\n",
            "Soy el thread numero: 1 Calcule:  resta de dos numeros  3 y 6 =  -3\n",
            "Soy el thread numero: 2 Calcule:  multiplicación de dos numeros  3 y 6 =  18\n",
            "Soy el thread numero: 3 Calcule:  división de dos numeros  3 y 6 =  0.5\n",
            "Soy el thread numero: 4 Calcule:  potencia de dos numeros  3 y 6 =  729\n"
          ],
          "name": "stdout"
        }
      ]
    },
    {
      "cell_type": "code",
      "metadata": {
        "id": "0ujhdE8b2oa4",
        "colab_type": "code",
        "colab": {}
      },
      "source": [
        ""
      ],
      "execution_count": 0,
      "outputs": []
    }
  ]
}