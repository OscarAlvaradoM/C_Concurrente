{
 "cells": [
  {
   "cell_type": "code",
   "execution_count": 1,
   "metadata": {},
   "outputs": [],
   "source": [
    "import multiprocessing as mp\n",
    "import time"
   ]
  },
  {
   "cell_type": "markdown",
   "metadata": {},
   "source": [
    "# Programa 1"
   ]
  },
  {
   "cell_type": "code",
   "execution_count": 2,
   "metadata": {},
   "outputs": [],
   "source": [
    "class Proceso(mp.Process):\n",
    "    \"\"\"Clase para instanciar proceso del programa1\n",
    "    Parámetros:\n",
    "        n : entero, cuantas veces se va imprimir\n",
    "        s : caracter\n",
    "    \"\"\"\n",
    "    def __init__(self,n,s):\n",
    "        self.n = n\n",
    "        self.s = s\n",
    "        super(Proceso,self).__init__()\n",
    "        \n",
    "    def run(self):\n",
    "        \"\"\"Rutina que imprime n veces el caracter s\"\"\"\n",
    "        for i in range(self.n):\n",
    "            print(self.s)\n",
    "            time.sleep(0.1)"
   ]
  },
  {
   "cell_type": "code",
   "execution_count": 3,
   "metadata": {},
   "outputs": [
    {
     "name": "stdout",
     "output_type": "stream",
     "text": [
      "a\n",
      "b\n",
      "c\n",
      "a\n",
      "b\n",
      "c\n",
      "a\n",
      "b\n",
      "c\n",
      "a\n",
      "b\n",
      "a\n",
      "a\n"
     ]
    }
   ],
   "source": [
    "p1 = Proceso(6,'a')\n",
    "p2 = Proceso(4,'b')\n",
    "p3 = Proceso(3,'c')\n",
    "\n",
    "p1.start()\n",
    "p2.start()\n",
    "p3.start()"
   ]
  },
  {
   "cell_type": "markdown",
   "metadata": {},
   "source": [
    "# Programa 2"
   ]
  },
  {
   "cell_type": "code",
   "execution_count": 4,
   "metadata": {},
   "outputs": [],
   "source": [
    "class Proceso(mp.Process):\n",
    "    \"\"\" Clase para instanciar proceso del programa2\n",
    "    Parámetros:\n",
    "        n : entero, cuantas veces se va imprimir\n",
    "        s : caracter\n",
    "        turno_actual : objeto mp.Value, turno de quien está\n",
    "                        ocupando la sección crítica en ese momento\n",
    "        turno : entero, turno asignado\n",
    "    \"\"\"\n",
    "    turno = 0  # Variable de clase para crear turnos\n",
    "    def __init__(self,n,s,actual):\n",
    "        self.n = n\n",
    "        self.s = s\n",
    "        self.turno = Proceso.turno+1 # Se asigna turno\n",
    "        self.turno_actual = actual  # Variable compartida\n",
    "        \n",
    "        super(Proceso,self).__init__()\n",
    "        Proceso.turno += 1 # Incrementamos turno para el siguiente proceso\n",
    "        \n",
    "    def run(self):\n",
    "        \"\"\"Rutina que imprime n veces el caracter s\"\"\"\n",
    "        while self.turno_actual.value != self.turno:\n",
    "            pass  # Si no es su turno, que se espere\n",
    "        \n",
    "        # Inicia sección crítica\n",
    "        for i in range(self.n):\n",
    "            print(self.s)\n",
    "            time.sleep(0.1)\n",
    "        \n",
    "        self.turno_actual.value += 1\n",
    "        # Termina sección crítica\n"
   ]
  },
  {
   "cell_type": "code",
   "execution_count": 5,
   "metadata": {},
   "outputs": [
    {
     "name": "stdout",
     "output_type": "stream",
     "text": [
      "a\n",
      "a\n",
      "a\n",
      "a\n",
      "a\n",
      "b\n",
      "b\n",
      "b\n",
      "b\n",
      "b\n",
      "b\n",
      "c\n",
      "c\n"
     ]
    }
   ],
   "source": [
    "quien = mp.Value('i',1)  # ¿Quién está en la sección?\n",
    "\n",
    "p1 = Proceso(5,'a',quien)\n",
    "p2 = Proceso(6,'b',quien)\n",
    "p3 = Proceso(2,'c',quien)\n",
    "\n",
    "p1.start()\n",
    "p2.start()\n",
    "p3.start()"
   ]
  },
  {
   "cell_type": "markdown",
   "metadata": {},
   "source": [
    "# Programa 3"
   ]
  },
  {
   "cell_type": "code",
   "execution_count": 6,
   "metadata": {},
   "outputs": [],
   "source": [
    "class Proceso(mp.Process):\n",
    "    \"\"\"Clase para instanciar proceso del programa3\n",
    "    Parámetros:\n",
    "        n : entero, cuantas veces se va imprimir\n",
    "        s : caracter\n",
    "        turno_actual : objeto mp.Value, turno de quien está\n",
    "                        ocupando la sección crítica en ese momento\n",
    "        turno : entero, turno asignado\n",
    "    \"\"\"\n",
    "    def __init__(self,n,s,actual,turno=None):\n",
    "        self.n = n\n",
    "        self.s = s\n",
    "        self.turno_actual = actual  # Variable compartida\n",
    "        self.turno = turno # Se asigna turno\n",
    "        \n",
    "        super(Proceso,self).__init__()\n",
    "        \n",
    "    def run(self):\n",
    "        \"\"\"Rutina que imprime n veces el caracter s\"\"\"\n",
    "        while self.turno_actual.value != self.turno:\n",
    "            pass  # Si no es su turno, que se espere\n",
    "        \n",
    "        # Inicia sección crítica\n",
    "        for i in range(self.n):\n",
    "            print(self.s)\n",
    "            time.sleep(0.1)\n",
    "        \n",
    "        self.turno_actual.value += 1\n",
    "        # Termina sección crítica"
   ]
  },
  {
   "cell_type": "code",
   "execution_count": 7,
   "metadata": {
    "scrolled": true
   },
   "outputs": [
    {
     "name": "stdout",
     "output_type": "stream",
     "text": [
      "c\n",
      "c\n",
      "b\n",
      "b\n",
      "b\n",
      "b\n",
      "b\n",
      "b\n",
      "a\n",
      "a\n",
      "a\n",
      "a\n",
      "a\n"
     ]
    }
   ],
   "source": [
    "quien = mp.Value('i',1)  # ¿Quién está en la sección?\n",
    "\n",
    "p1 = Proceso(5,'a',quien)\n",
    "p2 = Proceso(6,'b',quien)\n",
    "p3 = Proceso(2,'c',quien)\n",
    "p = [p1,p2,p3]\n",
    "\n",
    "p_s = [3,2,1]  # política de orden\n",
    "for i,ps in enumerate(p_s):\n",
    "    p[i].turno = ps\n",
    "    p[i].start()"
   ]
  },
  {
   "cell_type": "code",
   "execution_count": null,
   "metadata": {},
   "outputs": [],
   "source": []
  }
 ],
 "metadata": {
  "kernelspec": {
   "display_name": "Python 3",
   "language": "python",
   "name": "python3"
  },
  "language_info": {
   "codemirror_mode": {
    "name": "ipython",
    "version": 3
   },
   "file_extension": ".py",
   "mimetype": "text/x-python",
   "name": "python",
   "nbconvert_exporter": "python",
   "pygments_lexer": "ipython3",
   "version": "3.7.3"
  }
 },
 "nbformat": 4,
 "nbformat_minor": 2
}
