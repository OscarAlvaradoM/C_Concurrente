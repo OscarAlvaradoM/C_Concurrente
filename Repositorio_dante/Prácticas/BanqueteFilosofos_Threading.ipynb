{
 "cells": [
  {
   "cell_type": "markdown",
   "metadata": {},
   "source": [
    "Problema del filosofo"
   ]
  },
  {
   "cell_type": "code",
   "execution_count": 1,
   "metadata": {},
   "outputs": [],
   "source": [
    "from threading import Thread, Condition\n",
    "from time import sleep"
   ]
  },
  {
   "cell_type": "code",
   "execution_count": 2,
   "metadata": {},
   "outputs": [],
   "source": [
    "def hay_tenedores():\n",
    "    global tenedores\n",
    "    return tenedores > 1"
   ]
  },
  {
   "cell_type": "code",
   "execution_count": 3,
   "metadata": {},
   "outputs": [],
   "source": [
    "def filosofo(i,condicion):\n",
    "    \"\"\"(num,condition variable)\n",
    "    Procedimiento de un filosofo\n",
    "    \n",
    "    Parámetros:\n",
    "    i:numerico, es el identificador\n",
    "    condicion: variable tipo threading.Condition.\"\"\"\n",
    "    global tenedores\n",
    "    \n",
    "    print(f\"Soy el filosofo {i}\")\n",
    "    \n",
    "    while True:\n",
    "        # Sección para agarrar par de tenedores\n",
    "        with condicion:\n",
    "            condicion.wait_for(hay_tenedores)  #si no hay tenedores, se espera\n",
    "            tenedores -= 2 \n",
    "        print(f'Filosofo {i} comerá')\n",
    "\n",
    "        #Sección donde come\n",
    "        print(f'Filosofo {i} está comiendo')\n",
    "        sleep(3)\n",
    "\n",
    "        # Sección donde regresa los tenedores\n",
    "        with condicion:\n",
    "            tenedores += 2\n",
    "            condicion.notify() # Avisarle a otro filosofo en espera que ya puede comer\n",
    "        print(f'Filosofo {i} comió')\n"
   ]
  },
  {
   "cell_type": "code",
   "execution_count": 4,
   "metadata": {},
   "outputs": [
    {
     "name": "stdout",
     "output_type": "stream",
     "text": [
      "Soy el filosofo 0\n",
      "Filosofo 0 comerá\n",
      "Filosofo 0 está comiendo\n",
      "Soy el filosofo 1\n",
      "Filosofo 1 comerá\n",
      "Filosofo 1 está comiendo\n",
      "Soy el filosofo 2\n",
      "Soy el filosofo 3\n",
      "Soy el filosofo 4\n",
      "Filosofo 0 comióFilosofo 1 comió\n",
      "Filosofo 1 comerá\n",
      "Filosofo 1 está comiendo\n",
      "Filosofo 4 comerá\n",
      "Filosofo 4 está comiendo\n",
      "\n",
      "Filosofo 1 comióFilosofo 4 comió\n",
      "Filosofo 4 comerá\n",
      "Filosofo 4 está comiendo\n",
      "Filosofo 3 comerá\n",
      "\n",
      "Filosofo 3 está comiendo\n",
      "Filosofo 4 comióFilosofo 0 comerá\n",
      "\n",
      "Filosofo 0 está comiendo\n",
      "Filosofo 3 comióFilosofo 2 comerá\n",
      "\n",
      "Filosofo 2 está comiendo\n",
      "Filosofo 2 comióFilosofo 0 comió\n",
      "Filosofo 0 comerá\n",
      "Filosofo 0 está comiendo\n",
      "\n",
      "Filosofo 2 comerá\n",
      "Filosofo 2 está comiendo\n",
      "Filosofo 0 comió\n",
      "Filosofo 0 comerá\n",
      "Filosofo 0 está comiendo\n",
      "Filosofo 2 comió\n",
      "Filosofo 2 comerá\n",
      "Filosofo 2 está comiendo\n",
      "Filosofo 2 comióFilosofo 0 comió\n",
      "Filosofo 0 comerá\n",
      "Filosofo 0 está comiendo\n",
      "Filosofo 3 comerá\n",
      "Filosofo 3 está comiendo\n",
      "\n"
     ]
    }
   ],
   "source": [
    "filosofos = []\n",
    "\n",
    "n = tenedores = 5\n",
    "\n",
    "condicion = Condition()\n",
    "\n",
    "for i in range(n):\n",
    "    filoso = Thread(target=filosofo, args=(i,condicion))\n",
    "    filosofos.append(filoso)\n",
    "    \n",
    "for f in filosofos:\n",
    "    f.start()"
   ]
  },
  {
   "cell_type": "markdown",
   "metadata": {},
   "source": [
    "Posibles inconvenientes:\n",
    "* No existe una política de orden (un proceso podría no hacerse en bastante tiempo y otro proceso podría tomar el recurso nuevamente)\n",
    "    - E.g: Filosofo 1 terminó de comer y nuevamente empezó a comer"
   ]
  },
  {
   "cell_type": "code",
   "execution_count": null,
   "metadata": {},
   "outputs": [],
   "source": []
  }
 ],
 "metadata": {
  "kernelspec": {
   "display_name": "Python 3",
   "language": "python",
   "name": "python3"
  },
  "language_info": {
   "codemirror_mode": {
    "name": "ipython",
    "version": 3
   },
   "file_extension": ".py",
   "mimetype": "text/x-python",
   "name": "python",
   "nbconvert_exporter": "python",
   "pygments_lexer": "ipython3",
   "version": "3.7.3"
  }
 },
 "nbformat": 4,
 "nbformat_minor": 2
}
