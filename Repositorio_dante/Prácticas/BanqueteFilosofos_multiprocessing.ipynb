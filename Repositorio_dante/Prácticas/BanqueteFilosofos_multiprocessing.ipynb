{
 "cells": [
  {
   "cell_type": "markdown",
   "metadata": {},
   "source": [
    "# Variante donde la posición de los tenedores importa"
   ]
  },
  {
   "cell_type": "code",
   "execution_count": 1,
   "metadata": {},
   "outputs": [],
   "source": [
    "from multiprocessing import Process, Array, Value\n",
    "import time"
   ]
  },
  {
   "cell_type": "code",
   "execution_count": 2,
   "metadata": {},
   "outputs": [],
   "source": [
    "def filosofo(tenedores,indice,turno_actual):\n",
    "    \"\"\"Procedimiento de comer para un filosofo\n",
    "    (shared boolean array, num, shared num)\n",
    "        Recibe arreglo compartido tenedores que indica \n",
    "        los tenedores disponibles que hay\n",
    "        \n",
    "        Recibe índice que identifica al filosofo\n",
    "        \n",
    "        Recibe variable compartida turno_actual para manejar\n",
    "        política de turnos\"\"\"\n",
    "    print(f\"Ya llegó el filósofo {indice}\")\n",
    "    n = len(tenedores)\n",
    "    izq = tenedores[indice]\n",
    "    der = tenedores[(indice+1)%n]\n",
    "\n",
    "    while turno_actual.value != indice or izq == False or der == False:\n",
    "     # Empecemos con la sección crítica\n",
    "     pass\n",
    "    izq = False\n",
    "    der = False\n",
    "    print(f\"Comiendo el filósofo {indice} está...\")\n",
    "    time.sleep(5)\n",
    "    print(\"Jummy Jummy\")\n",
    "\n",
    "    izq = True\n",
    "    der = True\n",
    "    print(f\"'Que rico estuvo' dice  el filosofo {indice}\")\n",
    "\n",
    "    turno_actual.value = (turno_actual.value + 1)%n"
   ]
  },
  {
   "cell_type": "code",
   "execution_count": 3,
   "metadata": {},
   "outputs": [
    {
     "name": "stdout",
     "output_type": "stream",
     "text": [
      "Ya llegó el filósofo 0\n",
      "Comiendo el filósofo 0 está...\n",
      "Ya llegó el filósofo 2\n",
      "Ya llegó el filósofo 1\n",
      "Ya llegó el filósofo 3\n",
      "Ya llegó el filósofo 4\n",
      "Jummy Jummy\n",
      "'Que rico estuvo' dice  el filosofo 0\n",
      "Comiendo el filósofo 1 está...\n",
      "Jummy Jummy\n",
      "'Que rico estuvo' dice  el filosofo 1\n",
      "Comiendo el filósofo 2 está...\n",
      "Jummy Jummy\n",
      "'Que rico estuvo' dice  el filosofo 2\n",
      "Comiendo el filósofo 3 está...\n",
      "Jummy Jummy\n",
      "'Que rico estuvo' dice  el filosofo 3\n",
      "Comiendo el filósofo 4 está...\n",
      "Jummy Jummy\n",
      "'Que rico estuvo' dice  el filosofo 4\n"
     ]
    }
   ],
   "source": [
    "turno_actual = Value('i',0) #Turno de quien le toca\n",
    "tenedores = Array('b',[True,True,True,True,True])\n",
    "n = len(tenedores)\n",
    "\n",
    "# Creando filosofos\n",
    "F1 = Process(target = filosofo, args=(tenedores,0,turno_actual))\n",
    "F2 = Process(target = filosofo, args=(tenedores,1,turno_actual))\n",
    "F3 = Process(target = filosofo, args=(tenedores,2,turno_actual))\n",
    "F4 = Process(target = filosofo, args=(tenedores,3,turno_actual))\n",
    "F5 = Process(target = filosofo, args=(tenedores,4,turno_actual))\n",
    "\n",
    "# A comer\n",
    "F1.start()\n",
    "F3.start()\n",
    "F2.start()\n",
    "F4.start()\n",
    "F5.start()"
   ]
  },
  {
   "cell_type": "markdown",
   "metadata": {},
   "source": [
    "# Variante donde no importa la posición de los tenedores"
   ]
  },
  {
   "cell_type": "code",
   "execution_count": 4,
   "metadata": {},
   "outputs": [],
   "source": [
    "from multiprocessing import Process, Value\n",
    "import time"
   ]
  },
  {
   "cell_type": "code",
   "execution_count": 5,
   "metadata": {},
   "outputs": [],
   "source": [
    "def filosofo(tenedores, indice):\n",
    "    \"\"\"Procedimiento de comer para un filosofo\n",
    "    (shared num, num)\n",
    "        Recibe variable compartida tenedores que indica \n",
    "        cuandos tenedores hay\n",
    "        \n",
    "        Recibe índice, únicamente para propósitos de id\"\"\"\n",
    "    print(f\"Ya llegó el filósofo {indice}\")\n",
    "\n",
    "    while tenedores.value < 2:\n",
    "     # Empecemos con la sección crítica\n",
    "     pass\n",
    "    tenedores.value -= 2\n",
    "    print(f\"Comiendo el filósofo {indice} está...\")\n",
    "    time.sleep(5)\n",
    "    print(\"Jummy Jummy\")\n",
    "\n",
    "    print(f\"'Que rico estuvo' dice  el filosofo {indice}\")\n",
    "    tenedores.value += 2"
   ]
  },
  {
   "cell_type": "code",
   "execution_count": 6,
   "metadata": {},
   "outputs": [
    {
     "name": "stdout",
     "output_type": "stream",
     "text": [
      "Ya llegó el filósofo 0\n",
      "Comiendo el filósofo 0 está...\n",
      "Ya llegó el filósofo 2\n",
      "Comiendo el filósofo 2 está...\n",
      "Ya llegó el filósofo 1\n",
      "Ya llegó el filósofo 3\n",
      "Ya llegó el filósofo 4\n",
      "Jummy Jummy\n",
      "'Que rico estuvo' dice  el filosofo 0\n",
      "Comiendo el filósofo 4 está...\n",
      "Comiendo el filósofo 3 está...\n",
      "Comiendo el filósofo 1 está...\n",
      "Jummy Jummy\n",
      "'Que rico estuvo' dice  el filosofo 2\n",
      "Jummy Jummy\n",
      "Jummy Jummy\n",
      "Jummy Jummy\n",
      "'Que rico estuvo' dice  el filosofo 3\n",
      "'Que rico estuvo' dice  el filosofo 1\n",
      "'Que rico estuvo' dice  el filosofo 4\n"
     ]
    }
   ],
   "source": [
    "tenedores = Value('i', 5) # Al principio hay 5 tenedores\n",
    "F1 = Process(target = filosofo, args=(tenedores,0))\n",
    "F2 = Process(target = filosofo, args=(tenedores,1))\n",
    "F3 = Process(target = filosofo, args=(tenedores,2))\n",
    "F4 = Process(target = filosofo, args=(tenedores,3))\n",
    "F5 = Process(target = filosofo, args=(tenedores,4))\n",
    "\n",
    "F1.start()\n",
    "F3.start()\n",
    "F2.start()\n",
    "F4.start()\n",
    "F5.start()"
   ]
  },
  {
   "cell_type": "code",
   "execution_count": null,
   "metadata": {},
   "outputs": [],
   "source": []
  }
 ],
 "metadata": {
  "kernelspec": {
   "display_name": "Python 3",
   "language": "python",
   "name": "python3"
  },
  "language_info": {
   "codemirror_mode": {
    "name": "ipython",
    "version": 3
   },
   "file_extension": ".py",
   "mimetype": "text/x-python",
   "name": "python",
   "nbconvert_exporter": "python",
   "pygments_lexer": "ipython3",
   "version": "3.7.3"
  }
 },
 "nbformat": 4,
 "nbformat_minor": 2
}
