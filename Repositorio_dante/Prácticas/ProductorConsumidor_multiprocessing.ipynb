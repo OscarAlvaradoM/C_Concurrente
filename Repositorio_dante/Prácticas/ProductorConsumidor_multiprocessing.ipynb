{
  "nbformat": 4,
  "nbformat_minor": 0,
  "metadata": {
    "colab": {
      "name": "problema_productor_consumidor.ipynb",
      "provenance": []
    },
    "kernelspec": {
      "name": "python3",
      "display_name": "Python 3"
    }
  },
  "cells": [
    {
      "cell_type": "code",
      "metadata": {
        "id": "h4ewBBiZwDmR",
        "colab_type": "code",
        "colab": {}
      },
      "source": [
        "import multiprocessing as mp\n",
        "import time\n",
        "from random import randint"
      ],
      "execution_count": 0,
      "outputs": []
    },
    {
      "cell_type": "markdown",
      "metadata": {
        "id": "9ZqlEEcUwXBs",
        "colab_type": "text"
      },
      "source": [
        "Función wakeup"
      ]
    },
    {
      "cell_type": "code",
      "metadata": {
        "id": "Sh3-KoAJwMHn",
        "colab_type": "code",
        "colab": {}
      },
      "source": [
        "def wakeup(entidad):\n",
        "    global producer_is_awake\n",
        "    global consumer_is_awake\n",
        "\n",
        "    if entidad == 'producer':\n",
        "        producer_is_awake = True\n",
        "    elif entidad == 'consumer':\n",
        "        consumer_is_awake = True\n",
        "    else:\n",
        "        pass"
      ],
      "execution_count": 0,
      "outputs": []
    },
    {
      "cell_type": "markdown",
      "metadata": {
        "id": "N3ffY9h4xFUS",
        "colab_type": "text"
      },
      "source": [
        "Función sleep"
      ]
    },
    {
      "cell_type": "code",
      "metadata": {
        "id": "hnGZHjBywQlE",
        "colab_type": "code",
        "colab": {}
      },
      "source": [
        "def sleep(entidad):\n",
        "    global producer_is_awake\n",
        "    global consumer_is_awake\n",
        "\n",
        "    if entidad == 'producer':\n",
        "        producer_is_awake = False\n",
        "    elif entidad == 'consumer':\n",
        "        consumer_is_awake = False\n",
        "    else:\n",
        "        pass\n"
      ],
      "execution_count": 0,
      "outputs": []
    },
    {
      "cell_type": "markdown",
      "metadata": {
        "id": "6WBHQQN1xw67",
        "colab_type": "text"
      },
      "source": [
        "# Productor"
      ]
    },
    {
      "cell_type": "code",
      "metadata": {
        "id": "cs1y_UP0xzxo",
        "colab_type": "code",
        "colab": {}
      },
      "source": [
        "def produceItem():\n",
        "    time.sleep(3)\n",
        "    return randint(0,100)"
      ],
      "execution_count": 0,
      "outputs": []
    },
    {
      "cell_type": "code",
      "metadata": {
        "id": "XG9K7bsnygQ8",
        "colab_type": "code",
        "colab": {}
      },
      "source": [
        "def putItemIntoBuffer(item,buffer):\n",
        "    print(f\"{item} ha sido colocado en el buffer\")\n",
        "    buffer.put(item) "
      ],
      "execution_count": 0,
      "outputs": []
    },
    {
      "cell_type": "code",
      "metadata": {
        "id": "LMIn0AvlygHs",
        "colab_type": "code",
        "colab": {}
      },
      "source": [
        "def producer(itemCount,buffer):\n",
        "    global BUFFER_SIZE\n",
        "    global producer_is_awake\n",
        "    global consumer_is_awake\n",
        "    print(\"Producer\")\n",
        "    while True:\n",
        "        if producer_is_awake:\n",
        "            item = produceItem()\n",
        "            print(f\"Se produjo {item}\")\n",
        "            if itemCount.value == BUFFER_SIZE:\n",
        "                print(\"Posible overflow, producer se duerme\")\n",
        "                sleep('producer')\n",
        "            else:\n",
        "                putItemIntoBuffer(item,buffer)\n",
        "                itemCount.value += 1\n",
        "\n",
        "        if itemCount.value == 1:\n",
        "            wakeup('consumer')"
      ],
      "execution_count": 0,
      "outputs": []
    },
    {
      "cell_type": "markdown",
      "metadata": {
        "id": "0VSSdv7fxQEW",
        "colab_type": "text"
      },
      "source": [
        "# Consumidor"
      ]
    },
    {
      "cell_type": "code",
      "metadata": {
        "id": "pNC8vSC4xNsT",
        "colab_type": "code",
        "colab": {}
      },
      "source": [
        "def removeItemFromBuffer(buffer):\n",
        "    return buffer.get()"
      ],
      "execution_count": 0,
      "outputs": []
    },
    {
      "cell_type": "code",
      "metadata": {
        "id": "mccOQ7nSwTRu",
        "colab_type": "code",
        "colab": {}
      },
      "source": [
        "def consumeItem(item):\n",
        "    time.sleep(3)\n",
        "    print(f\"{item} ha sido consumido\")\n"
      ],
      "execution_count": 0,
      "outputs": []
    },
    {
      "cell_type": "code",
      "metadata": {
        "id": "sQTgaBg2xd30",
        "colab_type": "code",
        "colab": {}
      },
      "source": [
        "def consumer(itemCount,buffer):\n",
        "    global BUFFER_SIZE\n",
        "    global producer_is_awake\n",
        "    global consumer_is_awake\n",
        "    print(\"Consumer\")\n",
        "    while True:\n",
        "        if consumer_is_awake:\n",
        "            if itemCount.value == 0:\n",
        "                print(\"Posible underflow, consumer se duerme\")\n",
        "                sleep('consumer')\n",
        "            else:\n",
        "                item = removeItemFromBuffer(buffer)\n",
        "                print(f\"se quitó {item} del buffer\")\n",
        "                itemCount.value -= 1\n",
        "                consumeItem(item)\n",
        "\n",
        "        if itemCount.value < BUFFER_SIZE:\n",
        "            print(\"Hay espacio en el buffer, producer se despierta\")\n",
        "            wakeup('producer')"
      ],
      "execution_count": 0,
      "outputs": []
    },
    {
      "cell_type": "markdown",
      "metadata": {
        "id": "xnbxT1PZxtla",
        "colab_type": "text"
      },
      "source": [
        "Main"
      ]
    },
    {
      "cell_type": "code",
      "metadata": {
        "id": "msKtT4RPxsop",
        "colab_type": "code",
        "colab": {
          "base_uri": "https://localhost:8080/",
          "height": 1000
        },
        "outputId": "0c5c64a1-4837-4ddf-920d-179ff1962cef"
      },
      "source": [
        "BUFFER_SIZE = 5\n",
        "producer_is_awake = True\n",
        "consumer_is_awake = True \n",
        "\n",
        "itemCount = mp.Value('i',5)\n",
        "\n",
        "buffer = mp.Queue(maxsize=BUFFER_SIZE)\n",
        "    \n",
        "for n in [3,7,9]:\n",
        "    buffer.put(n)\n",
        "\n",
        "productor = mp.Process(target=producer, args=(itemCount,buffer))\n",
        "consumidor = mp.Process(target=consumer, args=(itemCount,buffer))\n",
        "\n",
        "productor.start()\n",
        "consumidor.start()\n",
        "\n",
        "while True:\n",
        "    print(f\"Hay {itemCount.value} items\")\n",
        "    time.sleep(3)"
      ],
      "execution_count": 10,
      "outputs": [
        {
          "output_type": "stream",
          "text": [
            "Producer\n",
            "Consumer\n",
            "se quitó 3 del buffer\n",
            "Hay 5 items\n",
            "Se produjo 50\n",
            "50 ha sido colocado en el buffer\n",
            "3 ha sido consumido\n",
            "se quitó 7 del buffer\n",
            "Hay 4 items\n",
            "Se produjo 54\n",
            "54 ha sido colocado en el buffer\n",
            "7 ha sido consumido\n",
            "se quitó 9 del buffer\n",
            "Hay 4 items\n",
            "Se produjo 37\n",
            "37 ha sido colocado en el buffer\n",
            "9 ha sido consumido\n",
            "se quitó 50 del buffer\n",
            "Hay 4 items\n",
            "Se produjo 69\n",
            "69 ha sido colocado en el buffer\n",
            "50 ha sido consumido\n",
            "se quitó 54 del buffer\n",
            "Hay 4 items\n",
            "Se produjo 41\n",
            "41 ha sido colocado en el buffer\n",
            "54 ha sido consumido\n",
            "se quitó 37 del buffer\n",
            "Hay 4 items\n"
          ],
          "name": "stdout"
        },
        {
          "output_type": "stream",
          "text": [
            "Process Process-1:\n",
            "Process Process-2:\n",
            "Traceback (most recent call last):\n",
            "  File \"/usr/lib/python3.6/multiprocessing/process.py\", line 258, in _bootstrap\n",
            "    self.run()\n",
            "  File \"/usr/lib/python3.6/multiprocessing/process.py\", line 93, in run\n",
            "    self._target(*self._args, **self._kwargs)\n",
            "  File \"<ipython-input-9-4ad249ce4bd6>\", line 8, in producer\n",
            "    item = produceItem()\n",
            "  File \"<ipython-input-7-0dc8828e53ea>\", line 2, in produceItem\n",
            "    time.sleep(3)\n",
            "KeyboardInterrupt\n",
            "Traceback (most recent call last):\n",
            "  File \"/usr/lib/python3.6/multiprocessing/process.py\", line 258, in _bootstrap\n",
            "    self.run()\n",
            "  File \"/usr/lib/python3.6/multiprocessing/process.py\", line 93, in run\n",
            "    self._target(*self._args, **self._kwargs)\n",
            "  File \"<ipython-input-6-5a0fa7445342>\", line 15, in consumer\n",
            "    consumeItem(item)\n",
            "  File \"<ipython-input-5-73467335b918>\", line 2, in consumeItem\n",
            "    time.sleep(3)\n",
            "KeyboardInterrupt\n"
          ],
          "name": "stderr"
        },
        {
          "output_type": "error",
          "ename": "KeyboardInterrupt",
          "evalue": "ignored",
          "traceback": [
            "\u001b[0;31m---------------------------------------------------------------------------\u001b[0m",
            "\u001b[0;31mKeyboardInterrupt\u001b[0m                         Traceback (most recent call last)",
            "\u001b[0;32m<ipython-input-10-937a806ae16e>\u001b[0m in \u001b[0;36m<module>\u001b[0;34m()\u001b[0m\n\u001b[1;32m     18\u001b[0m \u001b[0;32mwhile\u001b[0m \u001b[0;32mTrue\u001b[0m\u001b[0;34m:\u001b[0m\u001b[0;34m\u001b[0m\u001b[0;34m\u001b[0m\u001b[0m\n\u001b[1;32m     19\u001b[0m     \u001b[0mprint\u001b[0m\u001b[0;34m(\u001b[0m\u001b[0;34mf\"Hay {itemCount.value} items\"\u001b[0m\u001b[0;34m)\u001b[0m\u001b[0;34m\u001b[0m\u001b[0;34m\u001b[0m\u001b[0m\n\u001b[0;32m---> 20\u001b[0;31m     \u001b[0mtime\u001b[0m\u001b[0;34m.\u001b[0m\u001b[0msleep\u001b[0m\u001b[0;34m(\u001b[0m\u001b[0;36m3\u001b[0m\u001b[0;34m)\u001b[0m\u001b[0;34m\u001b[0m\u001b[0;34m\u001b[0m\u001b[0m\n\u001b[0m",
            "\u001b[0;31mKeyboardInterrupt\u001b[0m: "
          ]
        }
      ]
    },
    {
      "cell_type": "code",
      "metadata": {
        "id": "e1aECZheyzU3",
        "colab_type": "code",
        "colab": {}
      },
      "source": [
        ""
      ],
      "execution_count": 0,
      "outputs": []
    }
  ]
}
