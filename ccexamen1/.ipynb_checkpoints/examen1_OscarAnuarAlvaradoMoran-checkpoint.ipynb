{
 "cells": [
  {
   "cell_type": "code",
   "execution_count": 1,
   "metadata": {},
   "outputs": [],
   "source": [
    "import multiprocessing as mp"
   ]
  },
  {
   "cell_type": "markdown",
   "metadata": {},
   "source": [
    "# Programa 1"
   ]
  },
  {
   "cell_type": "markdown",
   "metadata": {},
   "source": [
    "### Realiza el programa *programa1* que instancie tres procesos. Cada uno de los procesos hijos recibirá un valor n y un caracter s enviados por el proceso padre, los procesos escribirán en la salida estándar n veces el caracter s."
   ]
  },
  {
   "cell_type": "code",
   "execution_count": 6,
   "metadata": {},
   "outputs": [
    {
     "name": "stdout",
     "output_type": "stream",
     "text": [
      "0 s1\n",
      "0 s2\n",
      "1 s1\n",
      "1 s2\n",
      "0 s3\n",
      "2 s1\n",
      "2 s2\n",
      "1 s3\n",
      "3 s2\n",
      "2 s3\n",
      "3 s1\n",
      "4 s2\n",
      "5 s2\n",
      "3 s3\n",
      "4 s3\n",
      "6 s2\n",
      "7 s2\n",
      "5 s3\n",
      "6 s3\n",
      "7 s3\n",
      "8 s3\n",
      "9 s3\n",
      "10 s3\n",
      "11 s3\n",
      "12 s3\n",
      "13 s3\n",
      "14 s3\n",
      "15 s3\n"
     ]
    }
   ],
   "source": [
    "def Imprimir(n, s):\n",
    "    '''\n",
    "    Esta función imprime n veces el caracter s, además muestra los datos enumerados.\n",
    "    '''\n",
    "    for idx, i in enumerate(range(n)): #Ciclo for que hace el trabajo\n",
    "        print(idx, s)\n",
    "\n",
    "def Hijos(n,s):\n",
    "    '''\n",
    "    Esta función crea hijos desde un proceso Padre y les asigna lo que tiene que hacer cada uno. Los inicializa también.\n",
    "    '''\n",
    "    Hijo1 = mp.Process(target = Imprimir, args = (n[0], s[0])) # Primer hijo\n",
    "    Hijo2 = mp.Process(target = Imprimir, args = (n[1], s[1])) # Segundo hijo\n",
    "    Hijo3 = mp.Process(target = Imprimir, args = (n[2], s[2])) # Tercer hijo\n",
    "                       \n",
    "    Hijo1.start()\n",
    "    Hijo2.start()\n",
    "    Hijo3.start()\n",
    "                 \n",
    "    Hijo1.join()\n",
    "    Hijo2.join()\n",
    "    Hijo3.join()\n",
    "            \n",
    "n = [4, 8, 16]\n",
    "s = ['s1', 's2', 's3']\n",
    "\n",
    "Padre = mp.Process(target = Hijos, args = (n,s))\n",
    "Padre.start()\n",
    "Padre.join()"
   ]
  },
  {
   "cell_type": "markdown",
   "metadata": {},
   "source": [
    "# Programa 2"
   ]
  },
  {
   "cell_type": "markdown",
   "metadata": {},
   "source": [
    "### Refactoriza (reescribe) el programa anterior y elabora el programa2 donde construyas un mecanismo de sincronización el cual permita escribir en orden todos los caracteres de cada proceso. Es decir que se obtenga la secuencia s<sub>1</sub> ... s<sub>1</sub>, s<sub>2</sub> ... s<sub>2</sub>, s<sub>3</sub> ... s<sub>3</sub> donde cada s<sub>i</sub> ... s<sub>i</sub> para cada i = 1, 2, 3 es la secuencia de caracteres del proceso<sub>i</sub> con longitud n<sub>i</sub> "
   ]
  },
  {
   "cell_type": "code",
   "execution_count": 5,
   "metadata": {},
   "outputs": [
    {
     "name": "stdout",
     "output_type": "stream",
     "text": [
      "0 s1\n",
      "1 s1\n",
      "2 s1\n",
      "3 s1\n",
      "0 s2\n",
      "1 s2\n",
      "2 s2\n",
      "3 s2\n",
      "4 s2\n",
      "5 s2\n",
      "6 s2\n",
      "7 s2\n",
      "0 s3\n",
      "1 s3\n",
      "2 s3\n",
      "3 s3\n",
      "4 s3\n",
      "5 s3\n",
      "6 s3\n",
      "7 s3\n",
      "8 s3\n",
      "9 s3\n",
      "10 s3\n",
      "11 s3\n",
      "12 s3\n",
      "13 s3\n",
      "14 s3\n",
      "15 s3\n"
     ]
    }
   ],
   "source": [
    "def Imprimir(n, s, turno_fijo):\n",
    "    '''\n",
    "    Esta función imprime n veces el caracter s, además muestra los datos enumerados. Se implementa aquí la utilización de \n",
    "    turnos y de bandera.\n",
    "    '''\n",
    "    bandera = 0\n",
    "    while bandera != 1:\n",
    "        while turno.value == turno_fijo:\n",
    "            for idx, i in enumerate(range(n)):\n",
    "                print(idx, s)\n",
    "            turno.value = turno.value + 1\n",
    "            bandera = bandera + 1\n",
    "\n",
    "def Hijos(n, s):\n",
    "    '''\n",
    "    Esta función crea hijos desde un proceso Padre y les asigna lo que tiene que hacer cada uno. Los inicializa también.\n",
    "    '''\n",
    "    Hijo1 = mp.Process(target = Imprimir, args = (n[0], s[0], 0))\n",
    "    Hijo2 = mp.Process(target = Imprimir, args = (n[1], s[1], 1))\n",
    "    Hijo3 = mp.Process(target = Imprimir, args = (n[2], s[2], 2))\n",
    "\n",
    "    Hijo1.start()\n",
    "    Hijo2.start()\n",
    "    Hijo3.start()         \n",
    "\n",
    "n = [4, 8, 16] # Vector con los valores de n distintos para cada proceso\n",
    "s = ['s1', 's2', 's3'] # Vector con los caracteres distintos para cada proceso\n",
    "turno = mp.Value('i', 0) #Inicializo los turnos como variable compartida.\n",
    "Padre = mp.Process(target = Hijos, args = (n, s))\n",
    "Padre.start()\n",
    "Padre.join()"
   ]
  },
  {
   "cell_type": "code",
   "execution_count": null,
   "metadata": {},
   "outputs": [],
   "source": []
  }
 ],
 "metadata": {
  "@webio": {
   "lastCommId": null,
   "lastKernelId": null
  },
  "kernelspec": {
   "display_name": "Python 3",
   "language": "python",
   "name": "python3"
  },
  "language_info": {
   "codemirror_mode": {
    "name": "ipython",
    "version": 3
   },
   "file_extension": ".py",
   "mimetype": "text/x-python",
   "name": "python",
   "nbconvert_exporter": "python",
   "pygments_lexer": "ipython3",
   "version": "3.7.3"
  }
 },
 "nbformat": 4,
 "nbformat_minor": 2
}
